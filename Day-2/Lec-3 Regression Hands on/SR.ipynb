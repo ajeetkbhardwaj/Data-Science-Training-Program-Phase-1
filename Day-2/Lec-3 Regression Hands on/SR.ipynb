{
 "cells": [
  {
   "cell_type": "markdown",
   "metadata": {},
   "source": [
    "# Lab : Simple Linear Regression"
   ]
  },
  {
   "cell_type": "code",
   "execution_count": 1,
   "metadata": {
    "vscode": {
     "languageId": "r"
    }
   },
   "outputs": [
    {
     "data": {
      "text/plain": [
       "\n",
       "Call:\n",
       "lm(formula = y ~ x)\n",
       "\n",
       "Coefficients:\n",
       "(Intercept)            x  \n",
       "        2.1         -0.3  \n"
      ]
     },
     "metadata": {},
     "output_type": "display_data"
    }
   ],
   "source": [
    "x  = c(1, 2, 3, 4, 5)\n",
    "y = c(1, 1, 3, 2, -1)\n",
    "model = lm(y~x)\n",
    "model"
   ]
  },
  {
   "cell_type": "code",
   "execution_count": 2,
   "metadata": {
    "vscode": {
     "languageId": "r"
    }
   },
   "outputs": [
    {
     "data": {
      "text/plain": [
       "\n",
       "Call:\n",
       "lm(formula = y ~ x)\n",
       "\n",
       "Residuals:\n",
       "   1    2    3    4    5 \n",
       "-0.8 -0.5  1.8  1.1 -1.6 \n",
       "\n",
       "Coefficients:\n",
       "            Estimate Std. Error t value Pr(>|t|)\n",
       "(Intercept)   2.1000     1.7020   1.234    0.305\n",
       "x            -0.3000     0.5132  -0.585    0.600\n",
       "\n",
       "Residual standard error: 1.623 on 3 degrees of freedom\n",
       "Multiple R-squared:  0.1023,\tAdjusted R-squared:  -0.197 \n",
       "F-statistic: 0.3418 on 1 and 3 DF,  p-value: 0.5999\n"
      ]
     },
     "metadata": {},
     "output_type": "display_data"
    }
   ],
   "source": [
    "summary(model)"
   ]
  },
  {
   "cell_type": "code",
   "execution_count": 11,
   "metadata": {
    "vscode": {
     "languageId": "r"
    }
   },
   "outputs": [
    {
     "name": "stdout",
     "output_type": "stream",
     "text": [
      "[1] 11\n",
      "[1] 11\n",
      "[1] 11\n"
     ]
    },
    {
     "data": {
      "text/plain": [
       "\n",
       "Call:\n",
       "lm(formula = Y ~ X1 + X2)\n",
       "\n",
       "Coefficients:\n",
       "(Intercept)           X1           X2  \n",
       "    13.1630      -1.8168      -0.4058  \n"
      ]
     },
     "metadata": {},
     "output_type": "display_data"
    }
   ],
   "source": [
    "X1 = c(1, 4, 9, 11, 3, 8, 5, 10, 2, 7, 6)\n",
    "X2 = c(8, 2, -8, -10, 6, -6, 0, -12, 4, -2, -2)\n",
    "Y = c(6, 8, 1, 0, 5, 3, 2, -4, 10, -3, 5)\n",
    "print(length(X1))\n",
    "print(length(X2))\n",
    "print(length(Y))\n",
    "model = lm(Y~X1+X2)\n",
    "model"
   ]
  },
  {
   "cell_type": "code",
   "execution_count": 12,
   "metadata": {
    "vscode": {
     "languageId": "r"
    }
   },
   "outputs": [
    {
     "data": {
      "text/plain": [
       "\n",
       "Call:\n",
       "lm(formula = Y ~ X1 + X2)\n",
       "\n",
       "Residuals:\n",
       "    Min      1Q  Median      3Q     Max \n",
       "-4.2570 -2.0892  0.9416  2.0152  2.9159 \n",
       "\n",
       "Coefficients:\n",
       "            Estimate Std. Error t value Pr(>|t|)  \n",
       "(Intercept)  13.1630     6.9403   1.897   0.0945 .\n",
       "X1           -1.8168     1.3467  -1.349   0.2142  \n",
       "X2           -0.4058     0.6767  -0.600   0.5653  \n",
       "---\n",
       "Signif. codes:  0 '***' 0.001 '**' 0.01 '*' 0.05 '.' 0.1 ' ' 1\n",
       "\n",
       "Residual standard error: 2.974 on 8 degrees of freedom\n",
       "Multiple R-squared:  0.6277,\tAdjusted R-squared:  0.5346 \n",
       "F-statistic: 6.744 on 2 and 8 DF,  p-value: 0.01921\n"
      ]
     },
     "metadata": {},
     "output_type": "display_data"
    }
   ],
   "source": [
    "summary(model)"
   ]
  },
  {
   "cell_type": "code",
   "execution_count": 17,
   "metadata": {
    "vscode": {
     "languageId": "r"
    }
   },
   "outputs": [
    {
     "name": "stdout",
     "output_type": "stream",
     "text": [
      "        X1  X2\n",
      " [1,] 1  1   8\n",
      " [2,] 1  4   2\n",
      " [3,] 1  9  -8\n",
      " [4,] 1 11 -10\n",
      " [5,] 1  3   6\n",
      " [6,] 1  8  -6\n",
      " [7,] 1  5   0\n",
      " [8,] 1 10 -12\n",
      " [9,] 1  2   4\n",
      "[10,] 1  7  -2\n",
      "[11,] 1  6  -2\n"
     ]
    },
    {
     "name": "stdout",
     "output_type": "stream",
     "text": [
      "        [,1]\n",
      "   13.162986\n",
      "X1 -1.816812\n",
      "X2 -0.405838\n"
     ]
    }
   ],
   "source": [
    "X = cbind(1, X1, X2)\n",
    "t1 = t(X)%*%X\n",
    "t2 = t(X) %*% Y\n",
    "print(X, t1, t2)\n",
    "t3 = solve(t1)\n",
    "beta = t3 %*% t2\n",
    "print(beta)\n"
   ]
  },
  {
   "cell_type": "code",
   "execution_count": 18,
   "metadata": {
    "vscode": {
     "languageId": "r"
    }
   },
   "outputs": [
    {
     "data": {
      "text/plain": [
       "       V1         \n",
       " Min.   :-1.8168  \n",
       " 1st Qu.:-1.1113  \n",
       " Median :-0.4058  \n",
       " Mean   : 3.6468  \n",
       " 3rd Qu.: 6.3786  \n",
       " Max.   :13.1630  "
      ]
     },
     "metadata": {},
     "output_type": "display_data"
    }
   ],
   "source": [
    "summary(beta)"
   ]
  },
  {
   "cell_type": "code",
   "execution_count": null,
   "metadata": {
    "vscode": {
     "languageId": "r"
    }
   },
   "outputs": [],
   "source": []
  }
 ],
 "metadata": {
  "kernelspec": {
   "display_name": "R",
   "language": "R",
   "name": "ir"
  },
  "language_info": {
   "codemirror_mode": "r",
   "file_extension": ".r",
   "mimetype": "text/x-r-source",
   "name": "R",
   "pygments_lexer": "r",
   "version": "4.1.3"
  }
 },
 "nbformat": 4,
 "nbformat_minor": 2
}
