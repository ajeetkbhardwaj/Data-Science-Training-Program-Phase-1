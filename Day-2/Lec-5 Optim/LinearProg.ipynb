{
 "cells": [
  {
   "cell_type": "markdown",
   "metadata": {},
   "source": [
    "# Linear Program \n",
    "\n",
    "1. Neural network used Stochastic Gradient descent\n",
    "2. Travelling Sales man problem using stochastic gradient descent \n",
    "3. Monte Carlo Approximation using Stochastic gradient descent"
   ]
  },
  {
   "cell_type": "code",
   "execution_count": null,
   "metadata": {},
   "outputs": [],
   "source": []
  }
 ],
 "metadata": {
  "language_info": {
   "name": "python"
  }
 },
 "nbformat": 4,
 "nbformat_minor": 2
}
