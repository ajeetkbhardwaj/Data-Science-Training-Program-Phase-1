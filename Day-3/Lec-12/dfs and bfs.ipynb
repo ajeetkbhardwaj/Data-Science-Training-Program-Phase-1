{
 "cells": [
  {
   "cell_type": "markdown",
   "metadata": {},
   "source": [
    "# Lab-4 : Graph Theory - Depth first search and Breath first search"
   ]
  },
  {
   "cell_type": "code",
   "execution_count": 11,
   "metadata": {},
   "outputs": [
    {
     "name": "stdout",
     "output_type": "stream",
     "text": [
      "{0: [1, 2, 4], 1: [0, 3], 2: [0, 3], 3: [1, 2, 5], 4: [0], 5: [3]}\n"
     ]
    }
   ],
   "source": [
    "graph = {0 : [1, 2, 4], 1: [0, 3], 2: [0, 3], 3:[1, 2, 5], 4 : [0], 5:[3]}\n",
    "print(graph)\n"
   ]
  },
  {
   "cell_type": "code",
   "execution_count": 12,
   "metadata": {},
   "outputs": [],
   "source": [
    "import collections as ds "
   ]
  },
  {
   "cell_type": "code",
   "execution_count": 17,
   "metadata": {},
   "outputs": [],
   "source": [
    "start = 0\n",
    "def bsf(graph, start):\n",
    "    visited_node = set()\n",
    "    queue = ds.deque([start])\n",
    "    visited_node.add(start)\n",
    "    \n",
    "    while queue:\n",
    "        node = queue.popleft()\n",
    "        print(node, end = \" \")\n",
    "        for i in graph[node]:\n",
    "           if i not in visited_node:\n",
    "                queue.append(i)\n",
    "                visited_node.add(i)"
   ]
  },
  {
   "cell_type": "code",
   "execution_count": 18,
   "metadata": {},
   "outputs": [
    {
     "name": "stdout",
     "output_type": "stream",
     "text": [
      "0 1 2 4 3 5 "
     ]
    }
   ],
   "source": [
    "bsf(graph, start=0)"
   ]
  },
  {
   "cell_type": "code",
   "execution_count": null,
   "metadata": {},
   "outputs": [],
   "source": []
  }
 ],
 "metadata": {
  "kernelspec": {
   "display_name": "Quanta",
   "language": "python",
   "name": "quanta"
  },
  "language_info": {
   "codemirror_mode": {
    "name": "ipython",
    "version": 3
   },
   "file_extension": ".py",
   "mimetype": "text/x-python",
   "name": "python",
   "nbconvert_exporter": "python",
   "pygments_lexer": "ipython3",
   "version": "3.11.4"
  }
 },
 "nbformat": 4,
 "nbformat_minor": 2
}
